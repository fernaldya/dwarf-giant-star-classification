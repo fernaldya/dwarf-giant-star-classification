{
 "cells": [
  {
   "cell_type": "markdown",
   "id": "4827a51d-bfd8-4f54-b336-d3e3730d2fb6",
   "metadata": {},
   "source": [
    "<b>Name: Fernaldy Aristo Wirjowerdojo</b>\n",
    "\n",
    "This programme is created to perform model inference on the best model obtained from the main notebook. Real data will be collected to perform the inference."
   ]
  },
  {
   "cell_type": "markdown",
   "id": "4d135ceb-4feb-4bd8-bf4f-af06ac9b383e",
   "metadata": {},
   "source": [
    "---"
   ]
  },
  {
   "cell_type": "markdown",
   "id": "ce45b972-da5b-4ce2-ac08-cd533c0d4370",
   "metadata": {},
   "source": [
    "# Import Libraries"
   ]
  },
  {
   "cell_type": "code",
   "execution_count": 49,
   "id": "86ab4baf-13ae-4e9e-8185-3edb1d5f26ed",
   "metadata": {},
   "outputs": [],
   "source": [
    "import pandas as pd\n",
    "import joblib"
   ]
  },
  {
   "cell_type": "markdown",
   "id": "a465fc49-2f15-4a7b-8a80-cad0ace88587",
   "metadata": {},
   "source": [
    "---"
   ]
  },
  {
   "cell_type": "markdown",
   "id": "0e876d64-0445-433f-a0f4-96214996440d",
   "metadata": {},
   "source": [
    "# Model Inference"
   ]
  },
  {
   "cell_type": "markdown",
   "id": "2df31a71-9e9f-46a0-aef7-3923de190bd9",
   "metadata": {},
   "source": [
    "## Inference Data"
   ]
  },
  {
   "cell_type": "markdown",
   "id": "56ae3874-fd28-4c06-b15c-e9a015d45013",
   "metadata": {},
   "source": [
    "Inference data is taken from real stars grabbed from their wikipedia page: \n",
    "- [Sirius B](https://en.wikipedia.org/wiki/Sirius)\n",
    "- [VY Canis Majoris](https://en.wikipedia.org/wiki/VY_Canis_Majoris)\n",
    "- [Proxima Centauri](https://en.wikipedia.org/wiki/Proxima_Centauri)"
   ]
  },
  {
   "cell_type": "code",
   "execution_count": 50,
   "id": "ec5133b8-74f0-4b4f-a6e1-55362fad7c68",
   "metadata": {},
   "outputs": [
    {
     "data": {
      "text/html": [
       "<div>\n",
       "<style scoped>\n",
       "    .dataframe tbody tr th:only-of-type {\n",
       "        vertical-align: middle;\n",
       "    }\n",
       "\n",
       "    .dataframe tbody tr th {\n",
       "        vertical-align: top;\n",
       "    }\n",
       "\n",
       "    .dataframe thead th {\n",
       "        text-align: right;\n",
       "    }\n",
       "</style>\n",
       "<table border=\"1\" class=\"dataframe\">\n",
       "  <thead>\n",
       "    <tr style=\"text-align: right;\">\n",
       "      <th></th>\n",
       "      <th>Vmag</th>\n",
       "      <th>Plx</th>\n",
       "      <th>e_Plx</th>\n",
       "      <th>B-V</th>\n",
       "      <th>SpType</th>\n",
       "      <th>Amag</th>\n",
       "    </tr>\n",
       "    <tr>\n",
       "      <th>Star</th>\n",
       "      <th></th>\n",
       "      <th></th>\n",
       "      <th></th>\n",
       "      <th></th>\n",
       "      <th></th>\n",
       "      <th></th>\n",
       "    </tr>\n",
       "  </thead>\n",
       "  <tbody>\n",
       "    <tr>\n",
       "      <th>Sirius B</th>\n",
       "      <td>8.44</td>\n",
       "      <td>0.37921</td>\n",
       "      <td>0.001580</td>\n",
       "      <td>-0.030</td>\n",
       "      <td>DA2</td>\n",
       "      <td>11.18</td>\n",
       "    </tr>\n",
       "    <tr>\n",
       "      <th>VY Canis Majoris</th>\n",
       "      <td>6.50</td>\n",
       "      <td>0.00083</td>\n",
       "      <td>0.000080</td>\n",
       "      <td>2.057</td>\n",
       "      <td>M3</td>\n",
       "      <td>11.33</td>\n",
       "    </tr>\n",
       "    <tr>\n",
       "      <th>Proxima Centauri</th>\n",
       "      <td>11.13</td>\n",
       "      <td>0.76850</td>\n",
       "      <td>0.000049</td>\n",
       "      <td>1.820</td>\n",
       "      <td>M5.5Ve</td>\n",
       "      <td>-3.90</td>\n",
       "    </tr>\n",
       "  </tbody>\n",
       "</table>\n",
       "</div>"
      ],
      "text/plain": [
       "                   Vmag      Plx     e_Plx    B-V  SpType   Amag\n",
       "Star                                                            \n",
       "Sirius B           8.44  0.37921  0.001580 -0.030     DA2  11.18\n",
       "VY Canis Majoris   6.50  0.00083  0.000080  2.057      M3  11.33\n",
       "Proxima Centauri  11.13  0.76850  0.000049  1.820  M5.5Ve  -3.90"
      ]
     },
     "execution_count": 50,
     "metadata": {},
     "output_type": "execute_result"
    }
   ],
   "source": [
    "# Sirius B\n",
    "sirius_B = pd.DataFrame({\n",
    "    'Vmag': [8.44],\n",
    "    'Plx': [0.37921],\n",
    "    'e_Plx': [0.00158],\n",
    "    'B-V': [-0.03],\n",
    "    'SpType': ['DA2'],\n",
    "    'Amag': [11.18]\n",
    "})\n",
    "\n",
    "# VY Canis Majoris\n",
    "vy_canis_majoris = pd.DataFrame({\n",
    "    'Vmag': [6.5],\n",
    "    'Plx': [0.00083],\n",
    "    'e_Plx': [0.00008],\n",
    "    'B-V': [2.057],\n",
    "    'SpType': ['M3'],\n",
    "    'Amag': [11.33]\n",
    "})\n",
    "\n",
    "# Proxima Centauri\n",
    "proxima_centauri = pd.DataFrame({\n",
    "    'Vmag': [11.13],\n",
    "    'Plx': [0.7685],  \n",
    "    'e_Plx': [0.000049],\n",
    "    'B-V': [1.82], \n",
    "    'SpType': ['M5.5Ve'],\n",
    "    'Amag': [-3.9]  \n",
    "})\n",
    "\n",
    "data_inf = pd.concat([sirius_B, vy_canis_majoris, proxima_centauri], keys=['Sirius B', 'VY Canis Majoris', 'Proxima Centauri'])\n",
    "data_inf = data_inf.reset_index(level=0)\n",
    "data_inf = data_inf.set_index('level_0')\n",
    "data_inf.index.name = 'Star'\n",
    "data_inf"
   ]
  },
  {
   "cell_type": "markdown",
   "id": "872e1058-bbb1-4f10-b957-c95a168abde3",
   "metadata": {},
   "source": [
    "## Model Loading"
   ]
  },
  {
   "cell_type": "code",
   "execution_count": 51,
   "id": "dc78a762-9169-4572-a5eb-e3de3e3fd272",
   "metadata": {},
   "outputs": [],
   "source": [
    "model = joblib.load('deployment/model.joblib')"
   ]
  },
  {
   "cell_type": "markdown",
   "id": "13039bcd-5b30-4dcc-b97c-39698ae3ac52",
   "metadata": {},
   "source": [
    "## Inference"
   ]
  },
  {
   "cell_type": "code",
   "execution_count": 52,
   "id": "e2325f6c-fbdd-456a-87cf-f435f0af7ea2",
   "metadata": {},
   "outputs": [
    {
     "data": {
      "text/plain": [
       "array([0, 2, 2])"
      ]
     },
     "execution_count": 52,
     "metadata": {},
     "output_type": "execute_result"
    }
   ],
   "source": [
    "pred = model.predict(data_inf)\n",
    "pred"
   ]
  },
  {
   "cell_type": "code",
   "execution_count": 53,
   "id": "82eb6b13-5464-462e-95ee-76e11182c8d8",
   "metadata": {},
   "outputs": [],
   "source": [
    "def star(pred):\n",
    "    if pred == 0:\n",
    "        return 'Dwarf Star'\n",
    "    elif pred == 1:\n",
    "        return 'Giant Star'\n",
    "    else:\n",
    "        return 'Special Star'"
   ]
  },
  {
   "cell_type": "code",
   "execution_count": 54,
   "id": "02785da7-60c0-4b11-a45a-5a283aba262a",
   "metadata": {},
   "outputs": [
    {
     "name": "stdout",
     "output_type": "stream",
     "text": [
      "The star Sirius B is predicted as a Dwarf Star.\n",
      "\n",
      "The star VY Canis Majoris is predicted as a Special Star.\n",
      "\n",
      "The star Proxima Centauri is predicted as a Special Star.\n"
     ]
    }
   ],
   "source": [
    "print(f'The star {data_inf.index[0]} is predicted as a {star(pred[0])}.')\n",
    "print()\n",
    "\n",
    "print(f'The star {data_inf.index[1]} is predicted as a {star(pred[1])}.')\n",
    "print()\n",
    "\n",
    "print(f'The star {data_inf.index[2]} is predicted as a {star(pred[2])}.')"
   ]
  },
  {
   "cell_type": "markdown",
   "id": "82129e38-028a-4e56-9f7a-06cb5fc1dd56",
   "metadata": {},
   "source": [
    "In actuality, the three stars are classified as:\n",
    "\n",
    "- Sirius B: **White Dwarf** and predicted as **Dwarf**\n",
    "- VY Canis Majoris: **Red Hypergiant** but predicted as **Special**\n",
    "- Proxima Centauri: **Red Dwarf** but predicted as **Special**\n",
    "\n",
    "The probable reason why VY Canis Majoris and Proxima Centauri was misclassified here is because the features the data has can be considered little. A more complete colour index measurements (ultraviolet, red, blue, green, visible) for each entry would help make a more precise model."
   ]
  }
 ],
 "metadata": {
  "kernelspec": {
   "display_name": "Python 3 (ipykernel)",
   "language": "python",
   "name": "python3"
  },
  "language_info": {
   "codemirror_mode": {
    "name": "ipython",
    "version": 3
   },
   "file_extension": ".py",
   "mimetype": "text/x-python",
   "name": "python",
   "nbconvert_exporter": "python",
   "pygments_lexer": "ipython3",
   "version": "3.11.4"
  }
 },
 "nbformat": 4,
 "nbformat_minor": 5
}
